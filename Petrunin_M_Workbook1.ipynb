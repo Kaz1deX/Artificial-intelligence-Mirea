{
 "cells": [
  {
   "cell_type": "markdown",
   "id": "d8308919",
   "metadata": {},
   "source": [
    "# Дисциплина \"Искусственный интеллект\"\n",
    "\n",
    "# Рабочая тетрадь № 1"
   ]
  },
  {
   "cell_type": "markdown",
   "id": "d5a49476",
   "metadata": {},
   "source": [
    "# 1.1. Теоретический материал - Типы данных"
   ]
  },
  {
   "cell_type": "markdown",
   "id": "bc900dc9",
   "metadata": {},
   "source": [
    "**Типы данных**\n",
    "\n",
    "Все типы данных в Python относятся к одной из 2-х категорий: изменяемые (mutable) и неизменяемые (immutable).\n",
    "\n",
    "Неизменяемые объекты:\n",
    "- числовые данные (int, float);\n",
    "- bool;\n",
    "- None;\n",
    "- символьные строки (class 'str');\n",
    "- кортежи (tuple).\n",
    "\n",
    "Изменяемые объекты:\n",
    "- списки (list);\n",
    "- множества (set);\n",
    "- словари (dict)."
   ]
  },
  {
   "cell_type": "markdown",
   "id": "d48e8344",
   "metadata": {},
   "source": [
    "# 1.2. Пример"
   ]
  },
  {
   "cell_type": "markdown",
   "id": "d457ac61",
   "metadata": {},
   "source": [
    "## Задача:"
   ]
  },
  {
   "cell_type": "markdown",
   "id": "95fb3092",
   "metadata": {},
   "source": [
    "Выведите на печать и определите тип переменной."
   ]
  },
  {
   "cell_type": "markdown",
   "id": "2be026ae",
   "metadata": {},
   "source": [
    "## Решение:"
   ]
  },
  {
   "cell_type": "code",
   "execution_count": 1,
   "id": "1aa13dcb",
   "metadata": {},
   "outputs": [
    {
     "name": "stdout",
     "output_type": "stream",
     "text": [
      "39.4 | <class 'float'> \n",
      " None | <class 'NoneType'> \n",
      " ('a', 5, 12.345, (2, 'b')) | <class 'tuple'> \n",
      " [['Петрунин Максим', 20, 'м'], ['Трифонов Артем', 15, 'м']] | <class 'list'> \n",
      " {1, 'title', 2, 'content'} | <class 'set'>\n"
     ]
    }
   ],
   "source": [
    "x = 3+5.2*7\n",
    "y = None\n",
    "z = 'a', 5, 12.345, (2, 'b')\n",
    "df = [['Петрунин Максим', 20, 'м'], ['Трифонов Артем', 15, 'м']]\n",
    "A = {1, 'title', 2, 'content'}\n",
    "\n",
    "print(x, '|', type(x), '\\n', y, '|', type(y), '\\n',\n",
    "      z, '|', type(z), '\\n', df, '|', type(df), '\\n', A, '|', type(A))"
   ]
  },
  {
   "cell_type": "markdown",
   "id": "254e4c90",
   "metadata": {},
   "source": [
    "# 1.3. Задание"
   ]
  },
  {
   "cell_type": "markdown",
   "id": "de2c6425",
   "metadata": {},
   "source": [
    "## Задача:"
   ]
  },
  {
   "cell_type": "markdown",
   "id": "24d4ffa8",
   "metadata": {},
   "source": [
    "Выведите на печать и определите тип переменной."
   ]
  },
  {
   "cell_type": "markdown",
   "id": "eefb61e9",
   "metadata": {},
   "source": [
    "## Решение:"
   ]
  },
  {
   "cell_type": "code",
   "execution_count": 3,
   "id": "b488bdb7",
   "metadata": {},
   "outputs": [
    {
     "name": "stdout",
     "output_type": "stream",
     "text": [
      "True | <class 'bool'> \n",
      " {8, 1, 3, 7} | <class 'set'> \n",
      " {2, 4, 5, 10, 'apple'} | <class 'set'> \n",
      " set() | <class 'set'> \n",
      " ('Петрунин Максим', 20, 'м') | <class 'tuple'> \n",
      " type | <class 'str'> \n",
      " [1, 'title', 2, 'content'] | <class 'list'>\n"
     ]
    }
   ],
   "source": [
    "x = 5 >= 2\n",
    "A = {1, 3, 7, 8}\n",
    "B = {2, 4, 5, 10, 'apple'}\n",
    "C = A & B\n",
    "df = 'Петрунин Максим', 20, 'м'\n",
    "z = 'type'\n",
    "D = [1, 'title', 2, 'content']\n",
    "\n",
    "print(x, '|', type(x), '\\n', A, '|', type(A), '\\n',\n",
    "      B, '|', type(B), '\\n', C, '|', type(C), '\\n',\n",
    "      df, '|', type(df), '\\n', z, '|', type(z), '\\n', D, '|', type(D))"
   ]
  },
  {
   "cell_type": "markdown",
   "id": "9ccd3f5a",
   "metadata": {},
   "source": [
    "# 2.1. Теоретический материал - Условный оператор"
   ]
  },
  {
   "attachments": {},
   "cell_type": "markdown",
   "id": "d9b785a0",
   "metadata": {},
   "source": [
    "**If - Условный оператор**\n",
    "\n",
    "В коде часто приходится проверять выполнимость или невыполнимость каих-то условий.\n",
    "\n",
    "Синтаксис:\n",
    "\n",
    "if<условие1 (булевское выражение)>:\n",
    "\n",
    "    <код, который выполнится, если условие верно>\n",
    "\n",
    "elif <условие2 (булевское выражение)>:\n",
    "\n",
    "    <код, который выполнится, если условие1 было неверно, а условие2 верно>\n",
    "\n",
    "else:\n",
    "    <код, который выполнится, если условие1 и условие2 были неверны>\n",
    "    \n",
    "Обратите внимание, что код, который должен выполняться внутри каждого условия, записывается с отступа в 4 пробела от уровня if, elif и else: в питоне области видимости переменных обозначаются отступа.\n",
    "\n",
    "То есть есть, отступы позволяют понять, где начинается код, который должен выполнятся при выполнении условия в if, и где заканчивается."
   ]
  },
  {
   "cell_type": "markdown",
   "id": "36775272",
   "metadata": {},
   "source": [
    "# 2.2. Пример"
   ]
  },
  {
   "cell_type": "markdown",
   "id": "dc996315",
   "metadata": {},
   "source": [
    "## Задача:"
   ]
  },
  {
   "cell_type": "markdown",
   "id": "3227dd3e",
   "metadata": {},
   "source": [
    "Вывести на экран является ли переменная x положительной, отрицательной или равна нулю."
   ]
  },
  {
   "cell_type": "markdown",
   "id": "fce6c493",
   "metadata": {},
   "source": [
    "## Решение:"
   ]
  },
  {
   "cell_type": "code",
   "execution_count": 5,
   "id": "374425db",
   "metadata": {},
   "outputs": [
    {
     "name": "stdout",
     "output_type": "stream",
     "text": [
      "x положительный\n"
     ]
    }
   ],
   "source": [
    "x = 125\n",
    "if x < 0:\n",
    "      print(\"x отрицательный\")\n",
    "elif x == 0:\n",
    "      print(\"x равен нулю\")\n",
    "else:\n",
    "      print(\"x положительный\")"
   ]
  },
  {
   "cell_type": "markdown",
   "id": "9e9da7eb",
   "metadata": {},
   "source": [
    "# 2.3. Задание"
   ]
  },
  {
   "cell_type": "markdown",
   "id": "67dc7b2e",
   "metadata": {},
   "source": [
    "## Задача:"
   ]
  },
  {
   "cell_type": "markdown",
   "id": "200c52b8",
   "metadata": {},
   "source": [
    "Напишите код. Задается x, напечатать какому из интервалов принадлежит: (-infinity, -5), [-5,5] или от (5, +infinity)."
   ]
  },
  {
   "cell_type": "markdown",
   "id": "a24db169",
   "metadata": {},
   "source": [
    "## Решение:"
   ]
  },
  {
   "cell_type": "code",
   "execution_count": 6,
   "id": "362c62cd",
   "metadata": {},
   "outputs": [
    {
     "name": "stdout",
     "output_type": "stream",
     "text": [
      "(5, +infinty)\n"
     ]
    }
   ],
   "source": [
    "x = 9\n",
    "if x < -5:\n",
    "      print(\"(-infinty, -5)\")\n",
    "elif x > 5:\n",
    "      print(\"(5, +infinty)\")\n",
    "else:\n",
    "      print(\"[-5, 5]\")"
   ]
  },
  {
   "cell_type": "code",
   "execution_count": 3,
   "id": "338018ad",
   "metadata": {},
   "outputs": [
    {
     "name": "stdout",
     "output_type": "stream",
     "text": [
      "(-infinty, -5)\n"
     ]
    }
   ],
   "source": [
    "x = -100\n",
    "if x < -5:\n",
    "      print(\"(-infinty, -5)\")\n",
    "elif x > 5:\n",
    "      print(\"(5, +infinty)\")\n",
    "else:\n",
    "      print(\"[-5, 5]\")"
   ]
  },
  {
   "cell_type": "code",
   "execution_count": 4,
   "id": "0fa18023",
   "metadata": {},
   "outputs": [
    {
     "name": "stdout",
     "output_type": "stream",
     "text": [
      "[-5, 5]\n"
     ]
    }
   ],
   "source": [
    "x = 2\n",
    "if x < -5:\n",
    "      print(\"(-infinty, -5)\")\n",
    "elif x > 5:\n",
    "      print(\"(5, +infinty)\")\n",
    "else:\n",
    "      print(\"[-5, 5]\")"
   ]
  },
  {
   "cell_type": "markdown",
   "id": "6509a5be",
   "metadata": {},
   "source": [
    "# 3.1. Теоретический материал - Циклы, массивы, срезы"
   ]
  },
  {
   "cell_type": "markdown",
   "id": "7a76d84c",
   "metadata": {},
   "source": [
    "**Циклы - for и while**\n",
    "\n",
    "Цикл **while** проверяет истинность условия, и если условие истинно, то выполняется инструкция цикла.\n",
    "\n",
    "Синтаксис:\n",
    "\n",
    "while условие:\n",
    "\n",
    "    инструкции\n",
    "    \n",
    "Инструкции, которые относятся к циклу while, располагаются на последующих строках и должны иметь отступ от начала ключевого слова while.\n",
    "\n",
    "Цикл **for** проходит по набору значений, помещает каждое значение в переменную с которой в цикле можно проводить различные действия.\n",
    "\n",
    "Синтаксис:\n",
    "\n",
    "for переменная in набор_значений:\n",
    "\n",
    "    инструкции\n",
    "    \n",
    "После ключевого слова **for** идет название переменной, в которую будут помещаться значения. После оператора **in** указывается набор значений и двоеточие. Инструкции, которые относятся к циклу, располагаются на последующих строках и должны иметь отступ.\n",
    "\n",
    "При создании цикла удобно пользоваться функцией **range(a, b)**, которая создает последовательность чисел от **a** до **b-1**."
   ]
  },
  {
   "cell_type": "markdown",
   "id": "3af6e3f4",
   "metadata": {},
   "source": [
    "# 3.2.1. Пример"
   ]
  },
  {
   "cell_type": "markdown",
   "id": "965ff36e",
   "metadata": {},
   "source": [
    "## Задача:"
   ]
  },
  {
   "cell_type": "markdown",
   "id": "3f2523dc",
   "metadata": {},
   "source": [
    "Вывести все числа от 1 до 10 с шагом 3."
   ]
  },
  {
   "cell_type": "markdown",
   "id": "3a49b9c6",
   "metadata": {},
   "source": [
    "## Решение:"
   ]
  },
  {
   "cell_type": "code",
   "execution_count": 5,
   "id": "1dab6a65",
   "metadata": {},
   "outputs": [
    {
     "name": "stdout",
     "output_type": "stream",
     "text": [
      "1\n",
      "4\n",
      "7\n",
      "10\n"
     ]
    }
   ],
   "source": [
    "x = 1\n",
    "while x <= 10:\n",
    "      print(x)\n",
    "      x += 3"
   ]
  },
  {
   "cell_type": "markdown",
   "id": "f44e4916",
   "metadata": {},
   "source": [
    "# 3.2.2. Пример"
   ]
  },
  {
   "cell_type": "markdown",
   "id": "d1636d10",
   "metadata": {},
   "source": [
    "## Задача:"
   ]
  },
  {
   "cell_type": "markdown",
   "id": "866f1e44",
   "metadata": {},
   "source": [
    "Задан список. Напечатать все элементы списка."
   ]
  },
  {
   "cell_type": "markdown",
   "id": "d2299a01",
   "metadata": {},
   "source": [
    "## Решение:"
   ]
  },
  {
   "cell_type": "code",
   "execution_count": 6,
   "id": "ab3bf024",
   "metadata": {},
   "outputs": [
    {
     "name": "stdout",
     "output_type": "stream",
     "text": [
      "KNN\n",
      "decision tree\n",
      "linear model\n"
     ]
    }
   ],
   "source": [
    "models = ['KNN', 'decision tree', 'linear model']\n",
    "for model in models:\n",
    "      print(model)"
   ]
  },
  {
   "cell_type": "markdown",
   "id": "66f23639",
   "metadata": {},
   "source": [
    "# 3.2.3. Пример"
   ]
  },
  {
   "cell_type": "markdown",
   "id": "752aacae",
   "metadata": {},
   "source": [
    "## Задача:"
   ]
  },
  {
   "cell_type": "markdown",
   "id": "447f7ca3",
   "metadata": {},
   "source": [
    "Создать список от 1 до 99 с шагом 7."
   ]
  },
  {
   "cell_type": "markdown",
   "id": "84721641",
   "metadata": {},
   "source": [
    "## Решение:"
   ]
  },
  {
   "cell_type": "code",
   "execution_count": 21,
   "id": "aff016e2",
   "metadata": {},
   "outputs": [
    {
     "name": "stdout",
     "output_type": "stream",
     "text": [
      "[1, 8, 15, 22, 29, 36, 43, 50, 57, 64, 71, 78, 85, 92, 99]\n"
     ]
    }
   ],
   "source": [
    "list_int = range(1, 100, 7)\n",
    "\n",
    "print(list(list_int))"
   ]
  },
  {
   "cell_type": "markdown",
   "id": "32aa1f95",
   "metadata": {},
   "source": [
    "# 3.2.4. Пример"
   ]
  },
  {
   "cell_type": "markdown",
   "id": "d3d6aad1",
   "metadata": {},
   "source": [
    "## Задача:"
   ]
  },
  {
   "cell_type": "markdown",
   "id": "c3ce538e",
   "metadata": {},
   "source": [
    "Вывести на экран числа от 1 до 105 с шагом 25, используя функцию range()."
   ]
  },
  {
   "cell_type": "markdown",
   "id": "059d75ff",
   "metadata": {},
   "source": [
    "## Решение:"
   ]
  },
  {
   "cell_type": "code",
   "execution_count": 15,
   "id": "0e2c014e",
   "metadata": {},
   "outputs": [
    {
     "name": "stdout",
     "output_type": "stream",
     "text": [
      "1\n",
      "26\n",
      "51\n",
      "76\n",
      "101\n"
     ]
    }
   ],
   "source": [
    "for i in range(1, 106, 25):\n",
    "      print(i)"
   ]
  },
  {
   "cell_type": "markdown",
   "id": "92a0c53a",
   "metadata": {},
   "source": [
    "# 3.2.5. Пример"
   ]
  },
  {
   "cell_type": "markdown",
   "id": "6938172e",
   "metadata": {},
   "source": [
    "## Задача:"
   ]
  },
  {
   "cell_type": "markdown",
   "id": "dcc559bc",
   "metadata": {},
   "source": [
    "Срез. Необходимо получить каждый k-й элемент массива a, начиная с элемента с индексом i (включительно) и заканчивая элементом с индексом j (не включительно), с шагом 2. Или переставить все элементы в обратном порядке."
   ]
  },
  {
   "cell_type": "markdown",
   "id": "140e3b8e",
   "metadata": {},
   "source": [
    "## Решение:"
   ]
  },
  {
   "cell_type": "code",
   "execution_count": 20,
   "id": "310f4ca1",
   "metadata": {},
   "outputs": [
    {
     "name": "stdout",
     "output_type": "stream",
     "text": [
      "[2, 4, 6]\n",
      "[9, 8, 7, 6, 5, 4, 3, 2, 1]\n"
     ]
    }
   ],
   "source": [
    "a = [1, 2, 3, 4, 5, 6, 7, 8, 9]\n",
    "b = a[1:7:2]\n",
    "c = a[::-1]\n",
    "\n",
    "print(b)\n",
    "print(c)"
   ]
  },
  {
   "cell_type": "markdown",
   "id": "95c8b894",
   "metadata": {},
   "source": [
    "# 3.3.1. Задание"
   ]
  },
  {
   "cell_type": "markdown",
   "id": "ac5557c6",
   "metadata": {},
   "source": [
    "## Задача:"
   ]
  },
  {
   "cell_type": "markdown",
   "id": "a0a8453b",
   "metadata": {},
   "source": [
    "Выведите числа из примера на while (3.2.1.) в обратном порядке."
   ]
  },
  {
   "cell_type": "markdown",
   "id": "611c2b77",
   "metadata": {},
   "source": [
    "## Решение:"
   ]
  },
  {
   "cell_type": "code",
   "execution_count": 10,
   "id": "e1e5e506",
   "metadata": {},
   "outputs": [
    {
     "name": "stdout",
     "output_type": "stream",
     "text": [
      "10\n",
      "7\n",
      "4\n",
      "1\n"
     ]
    }
   ],
   "source": [
    "x = 10\n",
    "while x >= 1:\n",
    "      print(x)\n",
    "      x -= 3"
   ]
  },
  {
   "cell_type": "markdown",
   "id": "e560cc9d",
   "metadata": {},
   "source": [
    "# 3.3.2. Задание"
   ]
  },
  {
   "cell_type": "markdown",
   "id": "40d4607a",
   "metadata": {},
   "source": [
    "## Задача:"
   ]
  },
  {
   "cell_type": "markdown",
   "id": "30d2da91",
   "metadata": {},
   "source": [
    "При решении задач машинного обучения часто в качестве объектов исследования выступает человек. Создайте список значимых характеристик (признаков), идентифицирующих человека. Выведите список на экран."
   ]
  },
  {
   "cell_type": "markdown",
   "id": "76ef9ae5",
   "metadata": {},
   "source": [
    "## Решение:"
   ]
  },
  {
   "cell_type": "code",
   "execution_count": 19,
   "id": "813b93e7",
   "metadata": {},
   "outputs": [
    {
     "name": "stdout",
     "output_type": "stream",
     "text": [
      "['color eye', 'weight', 'gender']\n"
     ]
    }
   ],
   "source": [
    "list_human_ch = ['color eye', 'weight', 'gender']\n",
    "\n",
    "print(list_human_ch)"
   ]
  },
  {
   "cell_type": "markdown",
   "id": "431d75b1",
   "metadata": {},
   "source": [
    "# 3.3.3. Задание"
   ]
  },
  {
   "cell_type": "markdown",
   "id": "7dedd2bc",
   "metadata": {},
   "source": [
    "## Задача:"
   ]
  },
  {
   "cell_type": "markdown",
   "id": "03693ec6",
   "metadata": {},
   "source": [
    "Создать список чисел от 2 до 15 с шагом 1."
   ]
  },
  {
   "cell_type": "markdown",
   "id": "a97e3439",
   "metadata": {},
   "source": [
    "## Решение:"
   ]
  },
  {
   "cell_type": "code",
   "execution_count": 18,
   "id": "2029552d",
   "metadata": {},
   "outputs": [
    {
     "name": "stdout",
     "output_type": "stream",
     "text": [
      "[2, 3, 4, 5, 6, 7, 8, 9, 10, 11, 12, 13, 14, 15]\n"
     ]
    }
   ],
   "source": [
    "my_list = range(2, 16)\n",
    "\n",
    "print(list(my_list))"
   ]
  },
  {
   "cell_type": "markdown",
   "id": "d668f9f4",
   "metadata": {},
   "source": [
    "# 3.3.4. Задание"
   ]
  },
  {
   "cell_type": "markdown",
   "id": "73b36f08",
   "metadata": {},
   "source": [
    "## Задача:"
   ]
  },
  {
   "cell_type": "markdown",
   "id": "4ce968f6",
   "metadata": {},
   "source": [
    "Выведите числа из примера на for с функцией range() (3.2.4.) в обратном порядке."
   ]
  },
  {
   "cell_type": "markdown",
   "id": "09bd57ee",
   "metadata": {},
   "source": [
    "## Решение:"
   ]
  },
  {
   "cell_type": "code",
   "execution_count": 17,
   "id": "4e95db78",
   "metadata": {},
   "outputs": [
    {
     "name": "stdout",
     "output_type": "stream",
     "text": [
      "101\n",
      "76\n",
      "51\n",
      "26\n",
      "1\n"
     ]
    }
   ],
   "source": [
    "for i in range(101, 0, -25):\n",
    "      print(i)"
   ]
  },
  {
   "cell_type": "markdown",
   "id": "c4debfed",
   "metadata": {},
   "source": [
    "# 3.3.5. Задание"
   ]
  },
  {
   "cell_type": "markdown",
   "id": "6b32e7fd",
   "metadata": {},
   "source": [
    "## Задача:"
   ]
  },
  {
   "cell_type": "markdown",
   "id": "b8c7d9f2",
   "metadata": {},
   "source": [
    "Срез. Напишите код, который все элементы массива x с нечетными индексами переставит в обратном порядке. Т.е. если x = [0, 1, 2, 3, 4, 5, 6, 7, 8, 9], то код должен сформировать [8, 1, 6, 3, 4, 5, 2, 7, 0, 9]."
   ]
  },
  {
   "cell_type": "markdown",
   "id": "a2a19712",
   "metadata": {},
   "source": [
    "## Решение:"
   ]
  },
  {
   "cell_type": "code",
   "execution_count": 65,
   "id": "8a5e656a",
   "metadata": {},
   "outputs": [
    {
     "name": "stdout",
     "output_type": "stream",
     "text": [
      "[8, 1, 6, 3, 4, 5, 2, 7, 0, 9]\n"
     ]
    }
   ],
   "source": [
    "x = [0, 1, 2, 3, 4, 5, 6, 7, 8, 9]\n",
    "if len(x)%2==0:\n",
    "    x[0::2] = x[-2::-2]\n",
    "else:\n",
    "    x[0::2] = x[-1::-2]\n",
    "\n",
    "print(x)"
   ]
  },
  {
   "cell_type": "markdown",
   "id": "f698044e",
   "metadata": {},
   "source": [
    "# 4.1. Теоретический материал - Библиотеки"
   ]
  },
  {
   "cell_type": "markdown",
   "id": "7a734779",
   "metadata": {},
   "source": [
    "Машинное обучение опирается на фундаментальные понятия и законы математики и информатики. Библиотека математических функций (math) применяется при решении большинства прикладных задач анализа данных. Также, и некоторые другие библиотеки Python содержат математические функции (например, NumPy). Важную роль играет библиотека matplotlib, которая позволяет производить визуализацию расчетов в удобной длявосприятия человеком форме: графики, диаграммы, гистограммы.\n",
    "\n",
    "Подключение библиотек - синтаксис:\n",
    "\n",
    "import math as m\n",
    "\n",
    "import numpy as np\n",
    "\n",
    "import mathlotlib.pyplot as plt\n",
    "\n",
    "etc...\n",
    "\n",
    "Библиотеки в python содержат не только функции, позволяющие решать различные задачи, но и некоторые популярные константы, например число Эйлера."
   ]
  },
  {
   "cell_type": "markdown",
   "id": "ac82ebd7",
   "metadata": {},
   "source": [
    "# 4.2.1. Пример"
   ]
  },
  {
   "cell_type": "markdown",
   "id": "d7894b9b",
   "metadata": {},
   "source": [
    "## Задача:"
   ]
  },
  {
   "cell_type": "markdown",
   "id": "c2992734",
   "metadata": {},
   "source": [
    "Расччитать синус от e радиан и вывести результат на экран"
   ]
  },
  {
   "cell_type": "markdown",
   "id": "b3d6f52e",
   "metadata": {},
   "source": [
    "## Решение:"
   ]
  },
  {
   "cell_type": "code",
   "execution_count": 1,
   "id": "f9c655f5",
   "metadata": {},
   "outputs": [
    {
     "name": "stdout",
     "output_type": "stream",
     "text": [
      "0.41078129050290885\n"
     ]
    }
   ],
   "source": [
    "import math as m\n",
    "\n",
    "print(m.sin(m.e))"
   ]
  },
  {
   "cell_type": "markdown",
   "id": "e4fe761e",
   "metadata": {},
   "source": [
    "# 4.2.2. Пример"
   ]
  },
  {
   "cell_type": "markdown",
   "id": "7598d6a8",
   "metadata": {},
   "source": [
    "## Задача:"
   ]
  },
  {
   "cell_type": "markdown",
   "id": "f1ecb573",
   "metadata": {},
   "source": [
    "Для функции $ sin(x e^{cos(x)}) $ на интервале [0; 10] с шагом 0,05 построить график функции, закрасить площадь под ним и вычислить значение этой площади.\n",
    "\n",
    "Для вычисления площади воспользуйтесь функцией trapz(), вычисляющей интеграл по правилу трапеции. Для ее корректной работы необзодимо подключить следующие библиотеки:\n",
    "\n",
    "from scipy.integrate import simps\n",
    "\n",
    "from numpy import trapz"
   ]
  },
  {
   "cell_type": "markdown",
   "id": "947b4d18",
   "metadata": {},
   "source": [
    "## Решение:"
   ]
  },
  {
   "cell_type": "code",
   "execution_count": 2,
   "id": "cf4defa5",
   "metadata": {},
   "outputs": [
    {
     "name": "stdout",
     "output_type": "stream",
     "text": [
      "73.50792907748662\n"
     ]
    },
    {
     "data": {
      "image/png": "[encoded data removed]",
      "text/plain": [
       "<Figure size 640x480 with 1 Axes>"
      ]
     },
     "metadata": {},
     "output_type": "display_data"
    }
   ],
   "source": [
    "import numpy as np\n",
    "import matplotlib.pyplot as plt\n",
    "from scipy.integrate import simps\n",
    "from numpy import trapz\n",
    "\n",
    "x = np.arange(0.0, 10, 0.1)\n",
    "y = np.abs(np.sin(x*np.exp(np.cos(x))))\n",
    "plt.grid()\n",
    "plt.plot(x, y, c = \"r\")\n",
    "plt.fill_between(x, y)\n",
    "\n",
    "area = trapz(y)\n",
    "print(area)"
   ]
  },
  {
   "cell_type": "markdown",
   "id": "1a06fca8",
   "metadata": {},
   "source": [
    "# 4.2.3. Пример"
   ]
  },
  {
   "cell_type": "markdown",
   "id": "8ed73201",
   "metadata": {},
   "source": [
    "## Задача:"
   ]
  },
  {
   "cell_type": "markdown",
   "id": "21c4a4b8",
   "metadata": {},
   "source": [
    "Дано некоторое распределение оценок в группу за экзамен. Нарисовать круговую и точечную диаграмму распределения."
   ]
  },
  {
   "cell_type": "markdown",
   "id": "81cf598e",
   "metadata": {},
   "source": [
    "## Решение:"
   ]
  },
  {
   "cell_type": "code",
   "execution_count": 47,
   "id": "de94e959",
   "metadata": {},
   "outputs": [
    {
     "data": {
      "image/png": "[encoded data removed]",
      "text/plain": [
       "<Figure size 1000x700 with 1 Axes>"
      ]
     },
     "metadata": {},
     "output_type": "display_data"
    },
    {
     "data": {
      "text/plain": [
       "<matplotlib.collections.PathCollection at 0x1f15e016ac0>"
      ]
     },
     "execution_count": 47,
     "metadata": {},
     "output_type": "execute_result"
    },
    {
     "data": {
      "image/png": "[encoded data removed]",
      "text/plain": [
       "<Figure size 640x480 with 1 Axes>"
      ]
     },
     "metadata": {},
     "output_type": "display_data"
    }
   ],
   "source": [
    "from matplotlib import pyplot as plt\n",
    "import numpy as np\n",
    "\n",
    "marks = ['Неуд', 'Удовл', 'Хор', 'Отл']\n",
    "\n",
    "data = [3, 7, 8, 4]\n",
    "fig = plt.figure(figsize = (10, 7))\n",
    "plt.pie(data, labels = marks)\n",
    "plt.show()\n",
    "plt.grid()\n",
    "plt.scatter(marks, data)"
   ]
  },
  {
   "cell_type": "markdown",
   "id": "61d2fc4d",
   "metadata": {},
   "source": [
    "# 4.3.1. Задание"
   ]
  },
  {
   "cell_type": "markdown",
   "id": "0c59607c",
   "metadata": {},
   "source": [
    "## Задача:"
   ]
  },
  {
   "cell_type": "markdown",
   "id": "81f96809",
   "metadata": {},
   "source": [
    "Задайте массив случайных значений из интервала (0, 1).\n",
    "\n",
    "Рассчитайте средние и медианные значения для массива, сравните результаты, какие выводы можно сделать о значениях?\n",
    "\n",
    "Постройте точечную диаграмму рассеивания полученного ряда."
   ]
  },
  {
   "cell_type": "markdown",
   "id": "db968793",
   "metadata": {},
   "source": [
    "## Решение:"
   ]
  },
  {
   "cell_type": "code",
   "execution_count": 12,
   "id": "d3569616",
   "metadata": {},
   "outputs": [
    {
     "name": "stdout",
     "output_type": "stream",
     "text": [
      "[0.98968254 0.91857968 0.85681486 0.15374168 0.83199552]\n",
      "0.8568148572571087\n",
      "0.7501628549513655\n"
     ]
    },
    {
     "data": {
      "image/png": "[encoded data removed]",
      "text/plain": [
       "<Figure size 640x480 with 1 Axes>"
      ]
     },
     "metadata": {},
     "output_type": "display_data"
    }
   ],
   "source": [
    "import numpy as np\n",
    "import matplotlib.pyplot as plt\n",
    "\n",
    "my_list = np.random.sample(5)\n",
    "data = range(5)\n",
    "print(my_list)\n",
    "print(np.median(my_list))\n",
    "print(np.mean(my_list))\n",
    "\n",
    "plt.title(\"Диаграмма рассеивания\")\n",
    "plt.grid()\n",
    "plt.scatter(data, my_list)\n",
    "plt.show()"
   ]
  },
  {
   "attachments": {},
   "cell_type": "markdown",
   "id": "53d87af3",
   "metadata": {},
   "source": [
    "# 4.3.2. Задание"
   ]
  },
  {
   "cell_type": "markdown",
   "id": "569dbe20",
   "metadata": {},
   "source": [
    "## Задача:"
   ]
  },
  {
   "attachments": {},
   "cell_type": "markdown",
   "id": "13fdf5ec",
   "metadata": {},
   "source": [
    "Дана функция $  $ . Создать массив из 10 значений функции (x, например, изменяется от 1 до 10). Выделить срез первой половины массива и построить графики для основного массива - линейный и для среза - точечный."
   ]
  },
  {
   "cell_type": "markdown",
   "id": "837803ae",
   "metadata": {},
   "source": [
    "## Решение:"
   ]
  },
  {
   "cell_type": "code",
   "execution_count": 27,
   "id": "efaea290",
   "metadata": {},
   "outputs": [
    {
     "data": {
      "image/png": "[encoded data removed]",
      "text/plain": [
       "<Figure size 400x400 with 1 Axes>"
      ]
     },
     "metadata": {},
     "output_type": "display_data"
    },
    {
     "data": {
      "image/png": "[encoded data removed]",
      "text/plain": [
       "<Figure size 400x400 with 1 Axes>"
      ]
     },
     "metadata": {},
     "output_type": "display_data"
    }
   ],
   "source": [
    "import numpy as np\n",
    "import matplotlib.pyplot as plt\n",
    "import math as m\n",
    "\n",
    "def f(x):\n",
    "    return ((m.sqrt(1+(m.e)**(m.sqrt(x)) + m.cos(x**2)))/(abs(1-(m.sin(x)**3)))) + m.log(abs(2*x))\n",
    "\n",
    "my_list = []\n",
    "for x in range(1, 11):\n",
    "    my_list.append(f(x))\n",
    "\n",
    "plt.figure(figsize=(4, 4))\n",
    "plt.plot(my_list)\n",
    "plt.title(\"График для основного массива\")\n",
    "plt.grid()\n",
    "plt.show()\n",
    "\n",
    "my_list_half = my_list[:5]\n",
    "plt.figure(figsize=(4, 4))\n",
    "plt.title(\"График для среза\")\n",
    "plt.grid()\n",
    "plt.scatter(range(len(my_list_half)), my_list_half)\n",
    "plt.show()"
   ]
  }
 ],
 "metadata": {
  "kernelspec": {
   "display_name": "base",
   "language": "python",
   "name": "python3"
  },
  "language_info": {
   "codemirror_mode": {
    "name": "ipython",
    "version": 3
   },
   "file_extension": ".py",
   "mimetype": "text/x-python",
   "name": "python",
   "nbconvert_exporter": "python",
   "pygments_lexer": "ipython3",
   "version": "3.9.13"
  },
  "vscode": {
   "interpreter": {
    "hash": "d3c47c2ec0678be587fd94d8e2ba62dc55bb62d43fd8df6fafcd5077400ab6fb"
   }
  }
 },
 "nbformat": 4,
 "nbformat_minor": 5
}
