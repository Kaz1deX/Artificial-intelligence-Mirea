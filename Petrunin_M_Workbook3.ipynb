{
 "cells": [
  {
   "attachments": {},
   "cell_type": "markdown",
   "metadata": {},
   "source": [
    "# Дисциплина \"Искусственный интеллект\"\n",
    "\n",
    "# Рабочая тетрадь № 3"
   ]
  },
  {
   "attachments": {},
   "cell_type": "markdown",
   "metadata": {},
   "source": [
    "# 1.1. Теоретический материал - Функции Python"
   ]
  },
  {
   "attachments": {},
   "cell_type": "markdown",
   "metadata": {},
   "source": [
    "Перед тем как рассматривать задачи классификации вспомним\n",
    "понятие функции (метода) в Python. Функция в python - объект,\n",
    "принимающий аргументы и возвращающий значение. Обычно функция\n",
    "определяется с помощью инструкции `def`.\n",
    "\n",
    "Определим простейшую функцию:\n",
    "    \n",
    "    def add(x, y):\n",
    "        return x + y\n",
    "\n",
    "Инструкция return говорит, что нужно вернуть значение. В нашем\n",
    "случае функция возвращает сумму x и y. Теперь мы ее можем вызвать:\n",
    "\n",
    "    add(1, 10)\n",
    "    add('abc', 'def')\n",
    "    'abcdef'\n",
    "\n",
    "Функция может быть любой сложности и возвращать любые объекты\n",
    "(списки, кортежи, и даже функции):\n",
    "\n",
    "    def newfunc(n):\n",
    "        def myfunc(x):\n",
    "            return x + n\n",
    "        return myfunc\n",
    "    new = newfunc(100) # new - это функция\n",
    "    new(200)\n",
    "    300\n",
    "\n",
    "Функция может и не заканчиваться инструкцией return, при этом\n",
    "функция вернет значение None:\n",
    "\n",
    "    def func():\n",
    "        pass\n",
    "    print(func())\n",
    "    None\n",
    "\n",
    "Функция может принимать произвольное количество аргументов или\n",
    "не принимать их вовсе. Также распространены функции с произвольным\n",
    "числом аргументов, функции с позиционными и именованными\n",
    "аргументами, обязательными и необязательными.\n",
    "\n",
    "    def func(*args):\n",
    "        return args\n",
    "    func(1, 2, 3, 'abc')\n",
    "    (1, 2, 3, 'abc')\n",
    "    func()\n",
    "    ()\n",
    "    func(1)\n",
    "    (1)\n",
    "\n",
    "Как видно из примера, args - это кортеж из всех переданных\n",
    "аргументов функции, и с переменной можно работать также, как и с\n",
    "кортежем.\n",
    "\n",
    "Функция может принимать и произвольное число именованных\n",
    "аргументов, тогда перед именем ставится **:\n",
    "\n",
    "    def func(**kwargs):\n",
    "        return kwargs\n",
    "    func(a=1, b=2, c=3)\n",
    "    {'a': 1, 'c': 3, 'b': 2}\n",
    "    func()\n",
    "    {}\n",
    "    func(a='python')\n",
    "    {'a': 'python'}\n"
   ]
  },
  {
   "attachments": {},
   "cell_type": "markdown",
   "metadata": {},
   "source": [
    "# 1.2.1 Пример"
   ]
  },
  {
   "attachments": {},
   "cell_type": "markdown",
   "metadata": {},
   "source": [
    "## Задача:"
   ]
  },
  {
   "attachments": {},
   "cell_type": "markdown",
   "metadata": {},
   "source": [
    "Напишите функцию sum_range(start, end), которая суммирует все целые\n",
    "числа от значения «start» до величины «end» включительно.\n",
    "\n",
    "Если пользователь задаст первое число большее чем второе, просто\n",
    "поменяйте их местами."
   ]
  },
  {
   "attachments": {},
   "cell_type": "markdown",
   "metadata": {},
   "source": [
    "## Решение:"
   ]
  },
  {
   "cell_type": "code",
   "execution_count": 2,
   "metadata": {},
   "outputs": [
    {
     "name": "stdout",
     "output_type": "stream",
     "text": [
      "Сумма всех целых чисел от 2 до 12:\n",
      "77\n",
      "Сумма всех целых чисел от -4 до 4:\n",
      "0\n",
      "Сумма всех целых чисел от 2 до 3:\n",
      "5\n"
     ]
    }
   ],
   "source": [
    "def sum_range(start, end):\n",
    "    if start > end:\n",
    "        end, start = start, end\n",
    "    return sum(range(start, end + 1))\n",
    "\n",
    "# Тесты\n",
    "print(\"Сумма всех целых чисел от 2 до 12:\")\n",
    "print(sum_range(2, 12))\n",
    "print(\"Сумма всех целых чисел от -4 до 4:\")\n",
    "print(sum_range(-4, 4))\n",
    "print(\"Сумма всех целых чисел от 2 до 3:\")\n",
    "print(sum_range(3, 2))"
   ]
  },
  {
   "attachments": {},
   "cell_type": "markdown",
   "metadata": {},
   "source": [
    "# 1.2.2 Пример"
   ]
  },
  {
   "attachments": {},
   "cell_type": "markdown",
   "metadata": {},
   "source": [
    "## Задача:"
   ]
  },
  {
   "attachments": {},
   "cell_type": "markdown",
   "metadata": {},
   "source": [
    "Напишите рекурсивную функцию вычисления факториала на языке\n",
    "Python."
   ]
  },
  {
   "attachments": {},
   "cell_type": "markdown",
   "metadata": {},
   "source": [
    "## Решение:"
   ]
  },
  {
   "cell_type": "code",
   "execution_count": 3,
   "metadata": {},
   "outputs": [
    {
     "name": "stdout",
     "output_type": "stream",
     "text": [
      "Факториал числа 5:\n",
      "120\n"
     ]
    }
   ],
   "source": [
    "def fact(num):\n",
    "    if num == 0:\n",
    "        return 1 # По договоренности факториал нуля равен единице\n",
    "    else:\n",
    "        return num * fact(num - 1)\n",
    "    # возвращаем результат произведения пит и результата возвращенного функцией fact(пит - 1)\n",
    "print(\"Факториал числа 5:\")\n",
    "print(fact(5))"
   ]
  },
  {
   "attachments": {},
   "cell_type": "markdown",
   "metadata": {},
   "source": [
    "# 1.2. Теоретический материал - Расстояние между объектами"
   ]
  },
  {
   "attachments": {},
   "cell_type": "markdown",
   "metadata": {},
   "source": [
    "**Определение расстояния между объектами класса**\n",
    "\n",
    "Сходство или различие между объектами классификации\n",
    "устанавливается в зависимости от выбранного метрического расстояния\n",
    "между ними. Если каждый объект описывается n свойствами (признаками),\n",
    "то он может быть представлен как точка в n-мерном пространстве, и\n",
    "сходство с другими объектами будет определяться как соответствующее\n",
    "расстояние. При классификации используются различные меры расстояния\n",
    "между объектами.\n",
    "1. *Евклидово расстояние*\n",
    "\n",
    "Это, пожалуй, наиболее часто используемая мера расстояния. Она\n",
    "является геометрическим расстоянием в многомерном пространстве и\n",
    "вычисляется следующим образом:\n",
    "$$\n",
    "P = \\sqrt{\\sum_{i=1}^N(A_i-B_i)^2}\n",
    "$$\n",
    "\n",
    "где\n",
    "- P – расстояние между объектами A и B;\n",
    "- $A_i$ – значение i-свойства объекта A;\n",
    "- $B_i$ – значение i-свойства объекта B.\n",
    "\n",
    "2. *Квадрат евклидова расстояния*\n",
    "\n",
    "Данная мера расстояния используется в тех случаях, когда требуется\n",
    "придать больше значение более отдаленным друг от друга объектам. Это\n",
    "расстояние вычисляется следующим образом:\n",
    "$$\n",
    "P = \\sum_{i=1}^N(A_i-B_i)^2\n",
    "$$\n",
    "\n",
    "3. *Взвешенное евклидово расстояние*\n",
    "\n",
    "Применяется в тех случаях, когда каждому i-свойству удается приписать\n",
    "некоторый «вес» wi, пропорционально степени важности признака в задаче\n",
    "классификации:\n",
    "$$\n",
    "P = \\sqrt{\\sum_{i=1}^Nw_i(A_i-B_i)^2}\n",
    "$$\n",
    "\n",
    "4. *Хеммингово расстояние*\n",
    "\n",
    "Также называется манхэттенским, сити-блок расстоянием или расстоянием\n",
    "городских кварталов. Это расстояние является разностью по координатам.\n",
    "Хеммингово расстояние вычисляется по формуле:\n",
    "$$\n",
    "P = \\sum_{i=1}^N(|A_i|-|B_i|)\n",
    "$$\n",
    "\n",
    "5. *Расстояние Чебышева*\n",
    "\n",
    "Принимает значение наибольшего модуля разности между значениями\n",
    "соответствующих свойств (признаков) объектов:\n",
    "$$\n",
    "P = MAX|A_i-B_i|\n",
    "$$\n",
    "\n",
    "Выбор меры расстояния и весов для классифицирующих свойств –\n",
    "очень важный этап, так как от этих процедур зависят состав и количество\n",
    "формируемых классов, а также степень сходства объектов внутри классов."
   ]
  },
  {
   "attachments": {},
   "cell_type": "markdown",
   "metadata": {},
   "source": [
    "# 1.2.3 Пример"
   ]
  },
  {
   "attachments": {},
   "cell_type": "markdown",
   "metadata": {},
   "source": [
    "## Задача:"
   ]
  },
  {
   "attachments": {},
   "cell_type": "markdown",
   "metadata": {},
   "source": [
    "Напишите функции в Python, которая вычисляет Евклидово расстояние\n",
    "между двумя массивами NumPy."
   ]
  },
  {
   "attachments": {},
   "cell_type": "markdown",
   "metadata": {},
   "source": [
    "## Решение:"
   ]
  },
  {
   "cell_type": "code",
   "execution_count": 7,
   "metadata": {},
   "outputs": [
    {
     "name": "stdout",
     "output_type": "stream",
     "text": [
      "Евклидово расстояние между двумя массивами [0, 0, 0] и [3, 3, 3]:\n",
      "5.196\n"
     ]
    }
   ],
   "source": [
    "import numpy as np\n",
    "def euclidean_distance(v1, v2):\n",
    "    return sum((x - y) ** 2 for x, y in zip(v1, v2)) ** 0.5\n",
    "\n",
    "x = np.array([0,0,0])\n",
    "y = np.array([3,3,3])\n",
    "print(\"Евклидово расстояние между двумя массивами [0, 0, 0] и [3, 3, 3]:\")\n",
    "print(round(euclidean_distance(x,y), 3))"
   ]
  },
  {
   "attachments": {},
   "cell_type": "markdown",
   "metadata": {},
   "source": [
    "# 1.2.4 Пример"
   ]
  },
  {
   "attachments": {},
   "cell_type": "markdown",
   "metadata": {},
   "source": [
    "## Задача:"
   ]
  },
  {
   "attachments": {},
   "cell_type": "markdown",
   "metadata": {},
   "source": [
    "Напишите 4 функции в Python, которые рассчитывают квадрат Евклидова\n",
    "расстояния, взвешенное евклидово расстояние, Хеммингово расстояние и\n",
    "расстояние Чебышева между двумя массивами NumPy."
   ]
  },
  {
   "attachments": {},
   "cell_type": "markdown",
   "metadata": {},
   "source": [
    "## Решение:"
   ]
  },
  {
   "cell_type": "code",
   "execution_count": 3,
   "metadata": {},
   "outputs": [
    {
     "name": "stdout",
     "output_type": "stream",
     "text": [
      "Квадрат Евклидова расстояния:\n",
      "27\n",
      "Взвешенное Евклидово расстояние:\n",
      "3.0\n",
      "Хеммингово расстояние:\n",
      "9\n",
      "Расстояние Чебышева:\n",
      "3\n"
     ]
    }
   ],
   "source": [
    "import numpy as np\n",
    "def sqr_euclidean_distance(v1, v2):\n",
    "    return sum((x - y) ** 2 for x, y in zip(v1, v2))\n",
    "\n",
    "def weighted_euclidean_distance(v1, v2, w):\n",
    "    return sum((x - y) ** 2 * s for x, y, s in zip(v1, v2, w)) ** 0.5\n",
    "\n",
    "def manhattan_distance(v1, v2):\n",
    "    return sum(abs(x - y) for (x, y) in zip(v1, v2))\n",
    "\n",
    "def chebyshev_distance(v1, v2):\n",
    "    return max(abs(x - y) for (x, y) in zip(v1, v2))\n",
    "\n",
    "x = np.array([0,0,0])\n",
    "y = np.array([3,3,3])\n",
    "w = np.array([0,0,1])\n",
    "print(\"Квадрат Евклидова расстояния:\")\n",
    "print(sqr_euclidean_distance(x,y))\n",
    "print(\"Взвешенное Евклидово расстояние:\")\n",
    "print(weighted_euclidean_distance(x,y, w))\n",
    "print(\"Хеммингово расстояние:\")\n",
    "print(manhattan_distance(x,y))\n",
    "print(\"Расстояние Чебышева:\")\n",
    "print(chebyshev_distance(x, y))"
   ]
  },
  {
   "attachments": {},
   "cell_type": "markdown",
   "metadata": {},
   "source": [
    "# 1.2.5 Пример"
   ]
  },
  {
   "attachments": {},
   "cell_type": "markdown",
   "metadata": {},
   "source": [
    "## Задача:"
   ]
  },
  {
   "attachments": {},
   "cell_type": "markdown",
   "metadata": {},
   "source": [
    "В Python есть встроенные функции для вычисления расстояний между\n",
    "векторами. Мы будем использовать NumPy для расчета расстояния для\n",
    "двух точек, поскольку ранее рассмотренные структуры данных могут быть\n",
    "переведены в Numpy массив с помощью специальных функциий.\n",
    "Например, для серий это будет выглядеть следующим образом:\n",
    "seriesName.to_numpy().\n",
    "\n",
    "Для удобства визуализации и анализа результатов в дальнейших расчетах\n",
    "будем использовать 2 точки в 3-х мерном пространстве:"
   ]
  },
  {
   "attachments": {},
   "cell_type": "markdown",
   "metadata": {},
   "source": [
    "## Решение:"
   ]
  },
  {
   "cell_type": "code",
   "execution_count": 6,
   "metadata": {},
   "outputs": [
    {
     "name": "stdout",
     "output_type": "stream",
     "text": [
      "Визуализация двух точек в пространстве:\n"
     ]
    },
    {
     "data": {
      "image/png": "[encoded data removed]",
      "text/plain": [
       "<Figure size 432x288 with 1 Axes>"
      ]
     },
     "metadata": {
      "needs_background": "light"
     },
     "output_type": "display_data"
    }
   ],
   "source": [
    "import matplotlib.pyplot as plt\n",
    "from mpl_toolkits.mplot3d import Axes3D\n",
    "\n",
    "fig = plt.figure()\n",
    "ax = fig.add_subplot(111, projection = '3d')\n",
    "\n",
    "ax.scatter(0, 0, 0)\n",
    "ax. scatter(3, 3, 3)\n",
    "print(\"Визуализация двух точек в пространстве:\")\n",
    "plt.show()"
   ]
  },
  {
   "attachments": {},
   "cell_type": "markdown",
   "metadata": {},
   "source": [
    "# 1.2.6 Пример"
   ]
  },
  {
   "attachments": {},
   "cell_type": "markdown",
   "metadata": {},
   "source": [
    "## Задача:"
   ]
  },
  {
   "attachments": {},
   "cell_type": "markdown",
   "metadata": {},
   "source": [
    "Рассчитать расстояния между двумя точками с использованием методов\n",
    "определения расстояний, представленных выше."
   ]
  },
  {
   "attachments": {},
   "cell_type": "markdown",
   "metadata": {},
   "source": [
    "## Решение:"
   ]
  },
  {
   "cell_type": "code",
   "execution_count": 7,
   "metadata": {},
   "outputs": [
    {
     "name": "stdout",
     "output_type": "stream",
     "text": [
      "Расстояние Евклида\n",
      "5.196\n",
      "Квадрат Евклидова расстояния\n",
      "27.0\n",
      "Расстояние Чебышева\n",
      "3.0\n",
      "Расстояние Хемминга\n",
      "9.0\n"
     ]
    }
   ],
   "source": [
    "import numpy as np\n",
    "#Расстояние Евклида\n",
    "print(\"Расстояние Евклида\")\n",
    "print(round(np.linalg.norm(x-y), 3))\n",
    "#Квадрат Евклидова расстояния\n",
    "print(\"Квадрат Евклидова расстояния\")\n",
    "print(np.linalg.norm(x-y) ** 2)\n",
    "#Расстояние Чебышева\n",
    "print(\"Расстояние Чебышева\")\n",
    "print(np.linalg.norm(x-y, ord=np.inf))\n",
    "#Расстояние Хемминга\n",
    "print(\"Расстояние Хемминга\")\n",
    "print(np.linalg.norm(x-y,ord=1))"
   ]
  },
  {
   "attachments": {},
   "cell_type": "markdown",
   "metadata": {},
   "source": [
    "# 1.3.1 Задание"
   ]
  },
  {
   "attachments": {},
   "cell_type": "markdown",
   "metadata": {},
   "source": [
    "## Задача:"
   ]
  },
  {
   "attachments": {},
   "cell_type": "markdown",
   "metadata": {},
   "source": [
    "Задайте 4 точки в трехмерном пространстве, рассчитайте между ними\n",
    "расстояния по описанным в примере выше метрикам. Отобразите точки\n",
    "в трехмерном пространстве."
   ]
  },
  {
   "attachments": {},
   "cell_type": "markdown",
   "metadata": {},
   "source": [
    "## Решение:"
   ]
  },
  {
   "cell_type": "code",
   "execution_count": 12,
   "metadata": {},
   "outputs": [
    {
     "name": "stdout",
     "output_type": "stream",
     "text": [
      "Расстояние Евклида:\n",
      "\n",
      "Между x и y:\n",
      "94.451\n",
      "Между x и z:\n",
      "92.011\n",
      "Между x и w:\n",
      "41.255\n",
      "Между y и z:\n",
      "20.857\n",
      "Между y и w:\n",
      "95.483\n",
      "Между z и w:\n",
      "93.755\n",
      "\n",
      "Квадрат Евклидового расстояния:\n",
      "\n",
      "Между x и y:\n",
      "8921.0\n",
      "Между x и z:\n",
      "8466.0\n",
      "Между x и w:\n",
      "1702.0\n",
      "Между y и z:\n",
      "435.0\n",
      "Между y и w:\n",
      "9117.0\n",
      "Между z и w:\n",
      "8790.0\n",
      "\n",
      "Расстояние Чебышева:\n",
      "\n",
      "Между x и y:\n",
      "70.0\n",
      "Между x и z:\n",
      "61.0\n",
      "Между x и w:\n",
      "37.0\n",
      "Между y и z:\n",
      "17.0\n",
      "Между y и w:\n",
      "68.0\n",
      "Между z и w:\n",
      "79.0\n",
      "\n",
      "Расстояние Хемминга:\n",
      "\n",
      "Между x и y:\n",
      "159.0\n",
      "Между x и z:\n",
      "158.0\n",
      "Между x и w:\n",
      "58.0\n",
      "Между y и z:\n",
      "33.0\n",
      "Между y и w:\n",
      "137.0\n",
      "Между z и w:\n",
      "136.0\n",
      "\n",
      "Отображение точек в трехмерном пространстве:\n"
     ]
    },
    {
     "data": {
      "text/plain": [
       "<mpl_toolkits.mplot3d.art3d.Path3DCollection at 0x1ba039ccd60>"
      ]
     },
     "execution_count": 12,
     "metadata": {},
     "output_type": "execute_result"
    },
    {
     "data": {
      "image/png": "[encoded data removed]",
      "text/plain": [
       "<Figure size 432x288 with 1 Axes>"
      ]
     },
     "metadata": {
      "needs_background": "light"
     },
     "output_type": "display_data"
    }
   ],
   "source": [
    "import numpy as np\n",
    "\n",
    "fig = plt.figure()\n",
    "ax = fig.add_subplot(111, projection = '3d')\n",
    "\n",
    "x = np.random.randint(0, 100, size=3)\n",
    "y = np.random.randint(0, 100, size=3)\n",
    "z = np.random.randint(0, 100, size=3)\n",
    "w = np.random.randint(0, 100, size=3)\n",
    "\n",
    "# Расстояние Евклида\n",
    "print(\"Расстояние Евклида:\", end=\"\\n\\n\")\n",
    "print(\"Между x и y:\")\n",
    "print(round(np.linalg.norm(x-y), 3))\n",
    "print(\"Между x и z:\")\n",
    "print(round(np.linalg.norm(x-z), 3))\n",
    "print(\"Между x и w:\")\n",
    "print(round(np.linalg.norm(x-w), 3))\n",
    "print(\"Между y и z:\")\n",
    "print(round(np.linalg.norm(y-z), 3))\n",
    "print(\"Между y и w:\")\n",
    "print(round(np.linalg.norm(y-w), 3))\n",
    "print(\"Между z и w:\")\n",
    "print(round(np.linalg.norm(z-w), 3))\n",
    "\n",
    "# Квадрат Евклидового расстояния\n",
    "print(\"\\nКвадрат Евклидового расстояния:\", end=\"\\n\\n\")\n",
    "print(\"Между x и y:\")\n",
    "print(round(np.linalg.norm(x-y) ** 2, 3))\n",
    "print(\"Между x и z:\")\n",
    "print(round(np.linalg.norm(x-z) ** 2, 3))\n",
    "print(\"Между x и w:\")\n",
    "print(round(np.linalg.norm(x-w) ** 2, 3))\n",
    "print(\"Между y и z:\")\n",
    "print(round(np.linalg.norm(y-z) ** 2, 3))\n",
    "print(\"Между y и w:\")\n",
    "print(round(np.linalg.norm(y-w) ** 2, 3))\n",
    "print(\"Между z и w:\")\n",
    "print(round(np.linalg.norm(z-w) ** 2, 3))\n",
    "\n",
    "# Расстояние Чебышева\n",
    "print(\"\\nРасстояние Чебышева:\", end=\"\\n\\n\")\n",
    "print(\"Между x и y:\")\n",
    "print(round(np.linalg.norm(x-y, ord=np.inf), 3))\n",
    "print(\"Между x и z:\")\n",
    "print(round(np.linalg.norm(x-z, ord=np.inf), 3))\n",
    "print(\"Между x и w:\")\n",
    "print(round(np.linalg.norm(x-w, ord=np.inf), 3))\n",
    "print(\"Между y и z:\")\n",
    "print(round(np.linalg.norm(y-z, ord=np.inf), 3))\n",
    "print(\"Между y и w:\")\n",
    "print(round(np.linalg.norm(y-w, ord=np.inf), 3))\n",
    "print(\"Между z и w:\")\n",
    "print(round(np.linalg.norm(z-w, ord=np.inf), 3))\n",
    "\n",
    "# Расстояние Хемминга\n",
    "print(\"\\nРасстояние Хемминга:\", end=\"\\n\\n\")\n",
    "print(\"Между x и y:\")\n",
    "print(round(np.linalg.norm(x-y, ord=1), 3))\n",
    "print(\"Между x и z:\")\n",
    "print(round(np.linalg.norm(x-z, ord=1), 3))\n",
    "print(\"Между x и w:\")\n",
    "print(round(np.linalg.norm(x-w, ord=1), 3))\n",
    "print(\"Между y и z:\")\n",
    "print(round(np.linalg.norm(y-z, ord=1), 3))\n",
    "print(\"Между y и w:\")\n",
    "print(round(np.linalg.norm(y-w, ord=1), 3))\n",
    "print(\"Между z и w:\")\n",
    "print(round(np.linalg.norm(z-w, ord=1), 3))\n",
    "\n",
    "print(\"\\nОтображение точек в трехмерном пространстве:\")\n",
    "ax.scatter(x[0],x[1],x[2])\n",
    "ax.scatter(y[0],y[1],y[2])\n",
    "ax.scatter(w[0],w[1],w[2])\n",
    "ax.scatter(z[0],z[1],z[2])"
   ]
  },
  {
   "attachments": {},
   "cell_type": "markdown",
   "metadata": {},
   "source": [
    "# 1.3.2 Задание"
   ]
  },
  {
   "attachments": {},
   "cell_type": "markdown",
   "metadata": {},
   "source": [
    "## Задача:"
   ]
  },
  {
   "attachments": {},
   "cell_type": "markdown",
   "metadata": {},
   "source": [
    "Создать 5x5 матрицу со значениями в строках от 0 до 4. Для создания\n",
    "необходимо использовать функцию arange"
   ]
  },
  {
   "attachments": {},
   "cell_type": "markdown",
   "metadata": {},
   "source": [
    "## Решение:"
   ]
  },
  {
   "cell_type": "code",
   "execution_count": 34,
   "metadata": {},
   "outputs": [
    {
     "name": "stdout",
     "output_type": "stream",
     "text": [
      "Матрица 5 на 5 со значениями в строках от 0 до 4:\n",
      "[[0. 1. 2. 3. 4.]\n",
      " [0. 1. 2. 3. 4.]\n",
      " [0. 1. 2. 3. 4.]\n",
      " [0. 1. 2. 3. 4.]\n",
      " [0. 1. 2. 3. 4.]]\n"
     ]
    }
   ],
   "source": [
    "import numpy as np\n",
    "\n",
    "Z = np.zeros((5, 5))\n",
    "Z += np.arange(5)\n",
    "print(\"Матрица 5 на 5 со значениями в строках от 0 до 4:\")\n",
    "print(Z)"
   ]
  },
  {
   "attachments": {},
   "cell_type": "markdown",
   "metadata": {},
   "source": [
    "# 2.1 Теоретический материал - Задачи классификации"
   ]
  },
  {
   "attachments": {
    "image.png": {
     "image/png": "[encoded data removed]"
    }
   },
   "cell_type": "markdown",
   "metadata": {},
   "source": [
    "**Решение задачи классификации методом k ближайших соседей**\n",
    "\n",
    "Метод k-ближайших соседей используется для решения задачи\n",
    "классификации. Он относит объекты к классу, которому принадлежит\n",
    "большинство из k его ближайших соседей в многомерном пространстве\n",
    "признаков. Это один из простейших алгоритмов обучения\n",
    "классификационных моделей. Число k – это количество соседних объектов\n",
    "в пространстве признаков, которые сравниваются с классифицируемым\n",
    "объектом. Иными словами, если k=10, то каждый объект сравнивается с 10-\n",
    "ю соседями. В процессе обучения алгоритм просто запоминает все векторы\n",
    "признаков и соответствующие им метки классов. При работе с реальными\n",
    "данными, т.е. наблюдениями, метки класса которых неизвестны,\n",
    "вычисляется расстояние между вектором нового наблюдения и ранее\n",
    "запомненными. Затем выбирается k ближайших к нему векторов, и новый\n",
    "объект относится к классу, которому принадлежит большинство из них.\n",
    "Приведем алгоритм метода.\n",
    "1. Выберите значение K соседей (скажем, k = 5)\n",
    "2. Найдите ближайшую точку данных K (5) для нашей новой точки\n",
    "данных на основе евклидова расстояния (которое мы обсудим позже)\n",
    "3. Среди этих K точек данных подсчитайте точки данных в каждой\n",
    "категории.\n",
    "4. Назначьте новую точку данных категории, которая имеет наибольшее\n",
    "количество соседей с новой точкой данных\n",
    "\n",
    "![image.png](attachment:image.png)\n",
    "\n",
    "Модуль библиотеки sklearn - sklearn.neighbors предоставляет\n",
    "функциональные возможности для контролируемого обучения на основе\n",
    "соседей. Обучение на основе контролируемых соседей бывает двух видов:\n",
    "классификация данных с дискретными метками и регрессия для данных с\n",
    "непрерывными метками. В данном разделе рассмотрим несколько примеров\n",
    "с использованием названного метода."
   ]
  },
  {
   "attachments": {},
   "cell_type": "markdown",
   "metadata": {},
   "source": [
    "# 2.2.1 Пример"
   ]
  },
  {
   "attachments": {},
   "cell_type": "markdown",
   "metadata": {},
   "source": [
    "## Задача:"
   ]
  },
  {
   "attachments": {},
   "cell_type": "markdown",
   "metadata": {},
   "source": [
    "В примере показано создание 2d-массива со значениями x и y. Список\n",
    "target содержит возможные выходные классы (часто называемые\n",
    "метками). Далее происходит обучение классификатора k-ближайших\n",
    "соседей по исходным данным. Далее производится прогноз\n",
    "принадлежности к классам для двух точек данных."
   ]
  },
  {
   "attachments": {},
   "cell_type": "markdown",
   "metadata": {},
   "source": [
    "## Решение:"
   ]
  },
  {
   "cell_type": "code",
   "execution_count": 23,
   "metadata": {},
   "outputs": [
    {
     "name": "stdout",
     "output_type": "stream",
     "text": [
      "Модель:\n",
      "KNeighborsClassifier(n_neighbors=3)\n",
      "Прогноз (-2,-2) - это класс:\n",
      "[0]\n",
      "Прогноз (1,3) - это класс:\n",
      "[1]\n"
     ]
    }
   ],
   "source": [
    "from sklearn.neighbors import KNeighborsClassifier\n",
    "import numpy as np\n",
    "\n",
    "# данные\n",
    "X = np.array([[-1, -1], [-2, -1], [-3, -2], [1, 1], [2, 1], [3, 2]])\n",
    "target = [0, 0, 0, 1, 1, 1]\n",
    "\n",
    "# обучаем модель k-ближайших соседей к данным\n",
    "K = 3\n",
    "model = KNeighborsClassifier(n_neighbors = K)\n",
    "model.fit(X, target)\n",
    "print(\"Модель:\")\n",
    "print(model)\n",
    "\n",
    "# делаем прогноз\n",
    "print('Прогноз (-2,-2) - это класс:')\n",
    "print( model.predict([[-2,-2]]))\n",
    "print('Прогноз (1,3) - это класс:')\n",
    "print( model.predict([[1,3]]))"
   ]
  },
  {
   "attachments": {},
   "cell_type": "markdown",
   "metadata": {},
   "source": [
    "# 2.2.2 Пример"
   ]
  },
  {
   "attachments": {},
   "cell_type": "markdown",
   "metadata": {},
   "source": [
    "## Задача:"
   ]
  },
  {
   "attachments": {},
   "cell_type": "markdown",
   "metadata": {},
   "source": [
    "Далее приведем более наглядный пример. Будет построена граница\n",
    "решения для каждого класса. В качестве данных будем использовать уже\n",
    "знакомый нам и встроенный в библиотеку sklearn набор данных ирисов\n",
    "Фишера. Этот набор данных стал уже классическим, и часто используется\n",
    "в литературе для иллюстрации работы различных статистических\n",
    "алгоритмов. Датасет содержит наблюдения за 150 разными цветками\n",
    "ирисов, данные по каждому цветку расположены в строках. В столбцах\n",
    "записаны длина и ширина чашелистика, длина и ширина лепестка, вид\n",
    "ириса."
   ]
  },
  {
   "attachments": {},
   "cell_type": "markdown",
   "metadata": {},
   "source": [
    "## Решение:"
   ]
  },
  {
   "cell_type": "code",
   "execution_count": 27,
   "metadata": {},
   "outputs": [
    {
     "name": "stdout",
     "output_type": "stream",
     "text": [
      "Датасет с данными наблюдения за 150 ирисами:\n",
      "1 - Длина чашелистика, 2 - ширина чашелистика, 3 - длина лепестка, 4 - ширина лепестка, 5 - вид ириса:\n"
     ]
    },
    {
     "data": {
      "text/html": [
       "<div>\n",
       "<style scoped>\n",
       "    .dataframe tbody tr th:only-of-type {\n",
       "        vertical-align: middle;\n",
       "    }\n",
       "\n",
       "    .dataframe tbody tr th {\n",
       "        vertical-align: top;\n",
       "    }\n",
       "\n",
       "    .dataframe thead th {\n",
       "        text-align: right;\n",
       "    }\n",
       "</style>\n",
       "<table border=\"1\" class=\"dataframe\">\n",
       "  <thead>\n",
       "    <tr style=\"text-align: right;\">\n",
       "      <th></th>\n",
       "      <th>sepal_length</th>\n",
       "      <th>sepal_width</th>\n",
       "      <th>petal_length</th>\n",
       "      <th>petal_width</th>\n",
       "      <th>species</th>\n",
       "    </tr>\n",
       "  </thead>\n",
       "  <tbody>\n",
       "    <tr>\n",
       "      <th>0</th>\n",
       "      <td>5.1</td>\n",
       "      <td>3.5</td>\n",
       "      <td>1.4</td>\n",
       "      <td>0.2</td>\n",
       "      <td>setosa</td>\n",
       "    </tr>\n",
       "    <tr>\n",
       "      <th>1</th>\n",
       "      <td>4.9</td>\n",
       "      <td>3.0</td>\n",
       "      <td>1.4</td>\n",
       "      <td>0.2</td>\n",
       "      <td>setosa</td>\n",
       "    </tr>\n",
       "    <tr>\n",
       "      <th>2</th>\n",
       "      <td>4.7</td>\n",
       "      <td>3.2</td>\n",
       "      <td>1.3</td>\n",
       "      <td>0.2</td>\n",
       "      <td>setosa</td>\n",
       "    </tr>\n",
       "    <tr>\n",
       "      <th>3</th>\n",
       "      <td>4.6</td>\n",
       "      <td>3.1</td>\n",
       "      <td>1.5</td>\n",
       "      <td>0.2</td>\n",
       "      <td>setosa</td>\n",
       "    </tr>\n",
       "    <tr>\n",
       "      <th>4</th>\n",
       "      <td>5.0</td>\n",
       "      <td>3.6</td>\n",
       "      <td>1.4</td>\n",
       "      <td>0.2</td>\n",
       "      <td>setosa</td>\n",
       "    </tr>\n",
       "    <tr>\n",
       "      <th>...</th>\n",
       "      <td>...</td>\n",
       "      <td>...</td>\n",
       "      <td>...</td>\n",
       "      <td>...</td>\n",
       "      <td>...</td>\n",
       "    </tr>\n",
       "    <tr>\n",
       "      <th>145</th>\n",
       "      <td>6.7</td>\n",
       "      <td>3.0</td>\n",
       "      <td>5.2</td>\n",
       "      <td>2.3</td>\n",
       "      <td>virginica</td>\n",
       "    </tr>\n",
       "    <tr>\n",
       "      <th>146</th>\n",
       "      <td>6.3</td>\n",
       "      <td>2.5</td>\n",
       "      <td>5.0</td>\n",
       "      <td>1.9</td>\n",
       "      <td>virginica</td>\n",
       "    </tr>\n",
       "    <tr>\n",
       "      <th>147</th>\n",
       "      <td>6.5</td>\n",
       "      <td>3.0</td>\n",
       "      <td>5.2</td>\n",
       "      <td>2.0</td>\n",
       "      <td>virginica</td>\n",
       "    </tr>\n",
       "    <tr>\n",
       "      <th>148</th>\n",
       "      <td>6.2</td>\n",
       "      <td>3.4</td>\n",
       "      <td>5.4</td>\n",
       "      <td>2.3</td>\n",
       "      <td>virginica</td>\n",
       "    </tr>\n",
       "    <tr>\n",
       "      <th>149</th>\n",
       "      <td>5.9</td>\n",
       "      <td>3.0</td>\n",
       "      <td>5.1</td>\n",
       "      <td>1.8</td>\n",
       "      <td>virginica</td>\n",
       "    </tr>\n",
       "  </tbody>\n",
       "</table>\n",
       "<p>150 rows × 5 columns</p>\n",
       "</div>"
      ],
      "text/plain": [
       "     sepal_length  sepal_width  petal_length  petal_width    species\n",
       "0             5.1          3.5           1.4          0.2     setosa\n",
       "1             4.9          3.0           1.4          0.2     setosa\n",
       "2             4.7          3.2           1.3          0.2     setosa\n",
       "3             4.6          3.1           1.5          0.2     setosa\n",
       "4             5.0          3.6           1.4          0.2     setosa\n",
       "..            ...          ...           ...          ...        ...\n",
       "145           6.7          3.0           5.2          2.3  virginica\n",
       "146           6.3          2.5           5.0          1.9  virginica\n",
       "147           6.5          3.0           5.2          2.0  virginica\n",
       "148           6.2          3.4           5.4          2.3  virginica\n",
       "149           5.9          3.0           5.1          1.8  virginica\n",
       "\n",
       "[150 rows x 5 columns]"
      ]
     },
     "execution_count": 27,
     "metadata": {},
     "output_type": "execute_result"
    }
   ],
   "source": [
    "from sklearn.neighbors import KNeighborsClassifier\n",
    "import seaborn as sns\n",
    "\n",
    "iris = sns.load_dataset('iris')\n",
    "print(\"Датасет с данными наблюдения за 150 ирисами:\")\n",
    "print(\"1 - Длина чашелистика, 2 - ширина чашелистика, 3 - длина лепестка, 4 - ширина лепестка, 5 - вид ириса:\")\n",
    "iris"
   ]
  },
  {
   "attachments": {},
   "cell_type": "markdown",
   "metadata": {},
   "source": [
    "# 2.2.3 Пример"
   ]
  },
  {
   "attachments": {},
   "cell_type": "markdown",
   "metadata": {},
   "source": [
    "## Задача:"
   ]
  },
  {
   "attachments": {},
   "cell_type": "markdown",
   "metadata": {},
   "source": [
    "Покажем на графиках зависимости ширины лепестка от его длины, а также\n",
    "аналогичный график зависимость для длины и ширины чашелистика.\n",
    "Разные виды цветков отмечены разными цветами."
   ]
  },
  {
   "attachments": {},
   "cell_type": "markdown",
   "metadata": {},
   "source": [
    "## Решение:"
   ]
  },
  {
   "cell_type": "code",
   "execution_count": 4,
   "metadata": {},
   "outputs": [
    {
     "name": "stdout",
     "output_type": "stream",
     "text": [
      "1) График зависимости ширины лепестка от его длины\n",
      "2) График зависимости для длины и ширины чашелистика\n"
     ]
    },
    {
     "data": {
      "image/png": "[encoded data removed]",
      "text/plain": [
       "<Figure size 1152x504 with 2 Axes>"
      ]
     },
     "metadata": {
      "needs_background": "light"
     },
     "output_type": "display_data"
    }
   ],
   "source": [
    "import matplotlib.pyplot as plt\n",
    "import seaborn as sns\n",
    "\n",
    "# Объявляем фигуру из двух графиков и ее размер\n",
    "plt.figure(figsize=(16, 7))\n",
    "\n",
    "# Левый график\n",
    "plt.subplot(121)\n",
    "sns.scatterplot(\n",
    "    data=iris, # из этой таблицы нарисовать точки\n",
    "    x='petal_width', y='petal_length', # с этими координатами,\n",
    "    hue='species', # для которых цвет определить согласно этому столбцу\n",
    "    s=70 # размер точек\n",
    ")\n",
    "plt.xlabel('Длина лепестка, см')\n",
    "plt.ylabel('Ширина лепестка, см')\n",
    "plt.legend() # добавить легенду\n",
    "print(\"1) График зависимости ширины лепестка от его длины\")\n",
    "plt.grid() # добавить сетку\n",
    "\n",
    "# Правый график аналогично\n",
    "plt.subplot(122)\n",
    "sns.scatterplot(data=iris, x='sepal_width', y='sepal_length', hue='species', s=70)\n",
    "plt.xlabel(\"Длина чашелистика, см\")\n",
    "plt.ylabel('Ширина чашелистика, см')\n",
    "plt.legend()\n",
    "print(\"2) График зависимости для длины и ширины чашелистика\")\n",
    "plt.grid()"
   ]
  },
  {
   "attachments": {},
   "cell_type": "markdown",
   "metadata": {},
   "source": [
    "# 2.2.4 Пример"
   ]
  },
  {
   "attachments": {},
   "cell_type": "markdown",
   "metadata": {},
   "source": [
    "## Задача:"
   ]
  },
  {
   "cell_type": "markdown",
   "metadata": {},
   "source": [
    "Из графиков видно, что в первом случае классы визуально хорошо\n",
    "отделимы друг от друга, хотя два класса имеют небольшое пересечение.\n",
    "Во втором случае разделить два класса между собой уже намного труднее.\n",
    "\n",
    "Далее разделим датасет на обучающую и тестовую выборки в\n",
    "соотношении 80:20. Обучающая выборка (training sample) — выборка, по\n",
    "которой производится настройка (оптимизация параметров) модели\n",
    "зависимости. Тестовая (или контрольная) выборка (test sample) —\n",
    "выборка, по которой оценивается качество построенной модели."
   ]
  },
  {
   "cell_type": "code",
   "execution_count": 33,
   "metadata": {},
   "outputs": [
    {
     "name": "stdout",
     "output_type": "stream",
     "text": [
      "Выборки:\n"
     ]
    },
    {
     "data": {
      "text/plain": [
       "((120, 4), (30, 4), (120,), (30,))"
      ]
     },
     "execution_count": 33,
     "metadata": {},
     "output_type": "execute_result"
    }
   ],
   "source": [
    "from sklearn.model_selection import train_test_split\n",
    "import matplotlib.pyplot as plt\n",
    "\n",
    "X_train, X_test, y_train, y_test = train_test_split(\n",
    "    # поскольку iris это pandas-таблица, для неё нужно указывать iloc\n",
    "    iris.iloc[:, :-1], # берем все колонки кроме последней в признаки\n",
    "    iris.iloc[:, -1], # последнюю в целевую переменную (класс)\n",
    "    test_size = 0.20 # размер тестовой выборки 20%\n",
    ")\n",
    "print(\"Выборки:\")\n",
    "X_train.shape, X_test.shape, y_train.shape, y_test.shape\n"
   ]
  },
  {
   "cell_type": "code",
   "execution_count": 24,
   "metadata": {},
   "outputs": [
    {
     "name": "stdout",
     "output_type": "stream",
     "text": [
      "Обучающая выборка (x):\n"
     ]
    },
    {
     "data": {
      "text/html": [
       "<div>\n",
       "<style scoped>\n",
       "    .dataframe tbody tr th:only-of-type {\n",
       "        vertical-align: middle;\n",
       "    }\n",
       "\n",
       "    .dataframe tbody tr th {\n",
       "        vertical-align: top;\n",
       "    }\n",
       "\n",
       "    .dataframe thead th {\n",
       "        text-align: right;\n",
       "    }\n",
       "</style>\n",
       "<table border=\"1\" class=\"dataframe\">\n",
       "  <thead>\n",
       "    <tr style=\"text-align: right;\">\n",
       "      <th></th>\n",
       "      <th>sepal_length</th>\n",
       "      <th>sepal_width</th>\n",
       "      <th>petal_length</th>\n",
       "      <th>petal_width</th>\n",
       "    </tr>\n",
       "  </thead>\n",
       "  <tbody>\n",
       "    <tr>\n",
       "      <th>48</th>\n",
       "      <td>5.3</td>\n",
       "      <td>3.7</td>\n",
       "      <td>1.5</td>\n",
       "      <td>0.2</td>\n",
       "    </tr>\n",
       "    <tr>\n",
       "      <th>55</th>\n",
       "      <td>5.7</td>\n",
       "      <td>2.8</td>\n",
       "      <td>4.5</td>\n",
       "      <td>1.3</td>\n",
       "    </tr>\n",
       "    <tr>\n",
       "      <th>82</th>\n",
       "      <td>5.8</td>\n",
       "      <td>2.7</td>\n",
       "      <td>3.9</td>\n",
       "      <td>1.2</td>\n",
       "    </tr>\n",
       "    <tr>\n",
       "      <th>91</th>\n",
       "      <td>6.1</td>\n",
       "      <td>3.0</td>\n",
       "      <td>4.6</td>\n",
       "      <td>1.4</td>\n",
       "    </tr>\n",
       "    <tr>\n",
       "      <th>37</th>\n",
       "      <td>4.9</td>\n",
       "      <td>3.6</td>\n",
       "      <td>1.4</td>\n",
       "      <td>0.1</td>\n",
       "    </tr>\n",
       "  </tbody>\n",
       "</table>\n",
       "</div>"
      ],
      "text/plain": [
       "    sepal_length  sepal_width  petal_length  petal_width\n",
       "48           5.3          3.7           1.5          0.2\n",
       "55           5.7          2.8           4.5          1.3\n",
       "82           5.8          2.7           3.9          1.2\n",
       "91           6.1          3.0           4.6          1.4\n",
       "37           4.9          3.6           1.4          0.1"
      ]
     },
     "execution_count": 24,
     "metadata": {},
     "output_type": "execute_result"
    }
   ],
   "source": [
    "print(\"Обучающая выборка (x):\")\n",
    "X_train.head()"
   ]
  },
  {
   "cell_type": "code",
   "execution_count": 34,
   "metadata": {},
   "outputs": [
    {
     "name": "stdout",
     "output_type": "stream",
     "text": [
      "Обучающая выборка (y):\n"
     ]
    },
    {
     "data": {
      "text/plain": [
       "80     versicolor\n",
       "48         setosa\n",
       "87     versicolor\n",
       "0          setosa\n",
       "127     virginica\n",
       "Name: species, dtype: object"
      ]
     },
     "execution_count": 34,
     "metadata": {},
     "output_type": "execute_result"
    }
   ],
   "source": [
    "print(\"Обучающая выборка (y):\")\n",
    "y_train.head()"
   ]
  },
  {
   "cell_type": "code",
   "execution_count": 14,
   "metadata": {},
   "outputs": [
    {
     "name": "stdout",
     "output_type": "stream",
     "text": [
      "Модель:\n"
     ]
    },
    {
     "data": {
      "text/plain": [
       "KNeighborsClassifier(n_neighbors=3)"
      ]
     },
     "execution_count": 14,
     "metadata": {},
     "output_type": "execute_result"
    }
   ],
   "source": [
    "#Обучим метод трех ближайших соседей\n",
    "model = KNeighborsClassifier(n_neighbors=3)\n",
    "print(\"Модель:\")\n",
    "model.fit(X_train, y_train)"
   ]
  },
  {
   "cell_type": "code",
   "execution_count": 38,
   "metadata": {},
   "outputs": [
    {
     "name": "stdout",
     "output_type": "stream",
     "text": [
      "Предсказания модели:\n"
     ]
    },
    {
     "data": {
      "text/plain": [
       "array(['versicolor', 'versicolor', 'versicolor', 'virginica',\n",
       "       'versicolor', 'setosa', 'setosa', 'versicolor', 'virginica',\n",
       "       'versicolor', 'setosa', 'versicolor', 'virginica', 'setosa',\n",
       "       'setosa', 'setosa', 'setosa', 'versicolor', 'virginica', 'setosa',\n",
       "       'versicolor', 'versicolor', 'versicolor', 'setosa', 'virginica',\n",
       "       'versicolor', 'setosa', 'virginica', 'versicolor', 'setosa'],\n",
       "      dtype=object)"
      ]
     },
     "execution_count": 38,
     "metadata": {},
     "output_type": "execute_result"
    }
   ],
   "source": [
    "#Получим предсказания модели\n",
    "y_pred = model.predict(X_test)\n",
    "print(\"Предсказания модели:\")\n",
    "y_pred"
   ]
  },
  {
   "cell_type": "code",
   "execution_count": 52,
   "metadata": {},
   "outputs": [
    {
     "name": "stdout",
     "output_type": "stream",
     "text": [
      "График, отражающий полученное число (красные - не сработало):\n"
     ]
    },
    {
     "data": {
      "image/png": "[encoded data removed]",
      "text/plain": [
       "<Figure size 1000x700 with 1 Axes>"
      ]
     },
     "metadata": {},
     "output_type": "display_data"
    }
   ],
   "source": [
    "# Покажем на графике, что отражает полученное число.\n",
    "# Красным цветом обозначены точки, для которых классификация сработала непрабильно.\n",
    "plt.figure(figsize=(10, 7))\n",
    "sns.scatterplot(x='petal_width', y='petal_length', data=iris, hue='species', s=70)\n",
    "plt.xlabel(\"Длина лепестка, см\")\n",
    "plt.ylabel(\"Ширина лепестка, см\")\n",
    "plt.legend(loc=2)\n",
    "plt.grid()\n",
    "\n",
    "print(\"График, отражающий полученное число (красные - не сработало):\")\n",
    "# Перебираем все объекты из теста\n",
    "for i in range(len(y_test)):\n",
    "    # Если предсказание неправильное\n",
    "    if np.array(y_test)[i] != y_pred[i]:\n",
    "    # то подсвечиваем точку красным\n",
    "        plt.scatter(X_test.iloc[i, 3], X_test.iloc[i, 2], color='red', s=150)"
   ]
  },
  {
   "cell_type": "code",
   "execution_count": 32,
   "metadata": {},
   "outputs": [
    {
     "name": "stdout",
     "output_type": "stream",
     "text": [
      "Качество модели:\n",
      "accuracy: 0.87\n"
     ]
    }
   ],
   "source": [
    "#качество модели (доля правильно классифицированных точек)\n",
    "from sklearn.metrics import accuracy_score\n",
    "print(\"Качество модели:\")\n",
    "print(f'accuracy: {accuracy_score(y_test, y_pred) :.3}')"
   ]
  },
  {
   "attachments": {},
   "cell_type": "markdown",
   "metadata": {},
   "source": [
    "# 2.3.1 Задание"
   ]
  },
  {
   "attachments": {},
   "cell_type": "markdown",
   "metadata": {},
   "source": [
    "## Задача:"
   ]
  },
  {
   "attachments": {},
   "cell_type": "markdown",
   "metadata": {},
   "source": [
    "Для предыдущего примера поэкспериментируйте с параметрами\n",
    "классификатора:\n",
    "1. Установите другое количество ближайших соседей (k = 1, 5, 10).\n",
    "2. Установите размер тестовой выборки 15% от всего датасета.\n",
    "3. Постройте графики и оцените качество моделей, проанализируйте результаты."
   ]
  },
  {
   "attachments": {},
   "cell_type": "markdown",
   "metadata": {},
   "source": [
    "## Решение:"
   ]
  },
  {
   "cell_type": "code",
   "execution_count": 43,
   "metadata": {},
   "outputs": [
    {
     "name": "stdout",
     "output_type": "stream",
     "text": [
      "1) График модели для 1 ближайшего соседа\n",
      "Качество модели:\n",
      "accuracy: 0.391\n",
      "2) График модели для 5 ближайших соседов\n",
      "Качество модели:\n",
      "accuracy: 0.913\n",
      "3) График модели для 10 ближайших соседов\n",
      "Качество модели:\n",
      "accuracy: 0.913\n"
     ]
    },
    {
     "data": {
      "image/png": "[encoded data removed]",
      "text/plain": [
       "<Figure size 720x504 with 1 Axes>"
      ]
     },
     "metadata": {
      "needs_background": "light"
     },
     "output_type": "display_data"
    },
    {
     "data": {
      "image/png": "[encoded data removed]",
      "text/plain": [
       "<Figure size 720x504 with 1 Axes>"
      ]
     },
     "metadata": {
      "needs_background": "light"
     },
     "output_type": "display_data"
    },
    {
     "data": {
      "image/png": "[encoded data removed]",
      "text/plain": [
       "<Figure size 720x504 with 1 Axes>"
      ]
     },
     "metadata": {
      "needs_background": "light"
     },
     "output_type": "display_data"
    }
   ],
   "source": [
    "from sklearn.neighbors import KNeighborsClassifier\n",
    "from sklearn.model_selection import train_test_split\n",
    "import matplotlib.pyplot as plt\n",
    "import numpy as np\n",
    "import seaborn as sns\n",
    "from sklearn.metrics import accuracy_score\n",
    "\n",
    "import warnings\n",
    "warnings.filterwarnings('ignore')\n",
    "\n",
    "iris = sns.load_dataset('iris')\n",
    "\n",
    "X_train, X_test, y_train, y_test = train_test_split(\n",
    "    iris.iloc[:, :-1],\n",
    "    iris.iloc[:, -1],\n",
    "    test_size=0.15\n",
    ")\n",
    "X_train.shape, X_test.shape, y_train.shape, y_test.shape\n",
    "\n",
    "\n",
    "def init_model(k, X_train, y_train, X_test):\n",
    "    model = KNeighborsClassifier(n_neighbors=k)\n",
    "    model.fit(X_train, y_train)\n",
    "    y_pred = model.predict(X_test)\n",
    "    return y_pred\n",
    "\n",
    "\n",
    "def graph(y_test, X_test, y_pred, title):\n",
    "    plt.figure(figsize=(10, 7))\n",
    "    sns.scatterplot(x='petal_width', y='petal_length', data=iris, hue='species', s=70)\n",
    "    plt.xlabel('Длина лепестка, см')\n",
    "    plt.ylabel('Ширина лепестка, см')\n",
    "    plt.legend(loc=2)\n",
    "    plt.grid()\n",
    "\n",
    "    for i in range(len(y_test)):\n",
    "        if np.array(y_test)[i] != y_pred[i]:\n",
    "            plt.scatter(X_test.iloc[i, 3], X_test.iloc[i, 2], color='red', s=150)\n",
    "            \n",
    "    plt.title(f\"График с n={title}\")\n",
    "\n",
    "\n",
    "print(\"1) График модели для 1 ближайшего соседа\")\n",
    "print(\"Качество модели:\")\n",
    "print(f'accuracy: {accuracy_score(y_test, y_pred) :.3}')\n",
    "y_pred = init_model(1, X_train, y_train, X_test)\n",
    "graph(y_test, X_test, y_pred, 1)\n",
    "print(\"2) График модели для 5 ближайших соседов\")\n",
    "print(\"Качество модели:\")\n",
    "print(f'accuracy: {accuracy_score(y_test, y_pred) :.3}')\n",
    "y_pred = init_model(5, X_train, y_train, X_test)\n",
    "graph(y_test, X_test, y_pred, 5)\n",
    "print(\"3) График модели для 10 ближайших соседов\")\n",
    "print(\"Качество модели:\")\n",
    "print(f'accuracy: {accuracy_score(y_test, y_pred) :.3}')\n",
    "y_pred = init_model(10, X_train, y_train, X_test)\n",
    "graph(y_test, X_test, y_pred, 10)"
   ]
  },
  {
   "attachments": {},
   "cell_type": "markdown",
   "metadata": {},
   "source": [
    "# 3.1. Теоретический материал - Работа с категориальными данными"
   ]
  },
  {
   "attachments": {},
   "cell_type": "markdown",
   "metadata": {},
   "source": [
    "**Работа с категориальными данными**\n",
    "\n",
    "Часто бывает полезно разбивать объекты на категории не по количеству, а по качеству. Эта качественная информация нередко представляется как принадлежность наблюдения к отдельной категории, такой как пол, цвета или марка автомобиля. Однако не все категориальные данные одинаковые. Наборы категорий без внутреннего упорядочения называются номинальными. Примеры номинальных категорий включают:\n",
    "\n",
    "- синий, красный, зеленый;\n",
    "- мужчина, женщина;\n",
    "- банан, клубника, яблоко.\n",
    "\n",
    "С другой стороны, когда набор категорий имеет некое естественное упорядочение, мы называем его порядковым. Например:\n",
    "\n",
    "- низкий, средний, высокий;\n",
    "- молодые, старые;\n",
    "- согласен, нейтрален, не согласен.\n",
    "\n",
    "Более того, категориальная информация часто представлена в данных в виде вектора или столбца символьных значений (например, \"Москва\", \"Санкт-Петербург\", \"Казань\"). Проблема в том, что большинство машинно-обучающихся алгоритмов требуют ввода числовых значений.\n",
    "\n",
    "Алгоритм k ближайших соседей предоставляет простой пример. Одним из шагов в алгоритме является вычисление расстояний между наблюдениями — часто с использованием евклидова расстояния. Однако вычисление расстояния, очевидно, невозможно, если значение х, является строковым типом (например, \"Москва\"). Для того чтобы его можно было ввести в уравнение евклидова расстояния, нам нужно преобразовать это строковое значение в числовой формат. Наша цель — сделать преобразование, которое правильно передает информацию в категориях (упорядоченность, относительные интервалы между категориями и т. д.). Существует большое количество методов кодирования категориальных данных, среди которых нет универсальных. Выбирая метод, стоит отталкиваться от ваших данных, мощности множества категорий и алгоритма машинного обучения.\n",
    "\n",
    "Далее рассмотрим некоторые методы таких преобразований."
   ]
  },
  {
   "attachments": {},
   "cell_type": "markdown",
   "metadata": {},
   "source": [
    "# 3.2.1. Пример"
   ]
  },
  {
   "attachments": {},
   "cell_type": "markdown",
   "metadata": {},
   "source": [
    "## Задача:"
   ]
  },
  {
   "attachments": {},
   "cell_type": "markdown",
   "metadata": {},
   "source": [
    "Дан порядковый категориальный признак (например, высокий, средний,\n",
    "низкий). Выполнить его кодировку.\n",
    "\n",
    "Для решения задачи можно использовать метод replace фрейма данных\n",
    "pandas для преобразования строковых меток в числовые эквиваленты."
   ]
  },
  {
   "attachments": {},
   "cell_type": "markdown",
   "metadata": {},
   "source": [
    "## Решение:"
   ]
  },
  {
   "cell_type": "code",
   "execution_count": 71,
   "metadata": {},
   "outputs": [
    {
     "name": "stdout",
     "output_type": "stream",
     "text": [
      "Кодировка по порядковому категориальному признаку:\n"
     ]
    },
    {
     "data": {
      "text/plain": [
       "0    1\n",
       "1    1\n",
       "2    2\n",
       "3    2\n",
       "4    3\n",
       "Name: оценка, dtype: int64"
      ]
     },
     "execution_count": 71,
     "metadata": {},
     "output_type": "execute_result"
    }
   ],
   "source": [
    "# Загрузить библиотеку\n",
    "import pandas as pd\n",
    "\n",
    "# Создать признаки\n",
    "dataframe = pd.DataFrame({\"оценка\": [\"низкая\", \"низкая\", \"средняя\", \"средняя\", \"высокая\"]})\n",
    "# Создать словарь преобразования шкалы\n",
    "scale_mapper = {\"низкая\":1,\"средняя\":2,\"высокая\":3}\n",
    "print(\"Кодировка по порядковому категориальному признаку:\")\n",
    "# Заменить значения признаков значениями словаря\n",
    "dataframe[\"оценка\"].replace(scale_mapper)"
   ]
  },
  {
   "attachments": {},
   "cell_type": "markdown",
   "metadata": {},
   "source": [
    "# 3.2.2. Пример"
   ]
  },
  {
   "attachments": {},
   "cell_type": "markdown",
   "metadata": {},
   "source": [
    "## Задача:"
   ]
  },
  {
   "attachments": {},
   "cell_type": "markdown",
   "metadata": {},
   "source": [
    "Дан словарь, и требуется его конвертировать в матрицу признаков.\n",
    "Для решения задачи можно задействовать класс-векторизатор словаря\n",
    "Dictvectorizer."
   ]
  },
  {
   "attachments": {},
   "cell_type": "markdown",
   "metadata": {},
   "source": [
    "## Решение:"
   ]
  },
  {
   "cell_type": "code",
   "execution_count": 74,
   "metadata": {},
   "outputs": [
    {
     "name": "stdout",
     "output_type": "stream",
     "text": [
      "Конвертированный словарь в матрицу признаков:\n"
     ]
    },
    {
     "data": {
      "text/plain": [
       "array([[0., 2., 4.],\n",
       "       [0., 4., 3.],\n",
       "       [2., 1., 0.],\n",
       "       [2., 2., 0.]])"
      ]
     },
     "execution_count": 74,
     "metadata": {},
     "output_type": "execute_result"
    }
   ],
   "source": [
    "# Импортировать библиотеку\n",
    "from sklearn.feature_extraction import DictVectorizer\n",
    "# Создать словарь\n",
    "data_dict = [{\"красный\": 2, \"синий\": 4},\n",
    "{\"красный\": 4, \"синий\": 3}, {\"красный\": 1, \"желтый\": 2},\n",
    "{\"красный\": 2, \"желтый\": 2}]\n",
    "# Создать векторизатор словаря\n",
    "dictvectorizer = DictVectorizer(sparse=False)\n",
    "# Конвертировать словарь в матрицу признаков\n",
    "features = dictvectorizer.fit_transform(data_dict)\n",
    "print(\"Конвертированный словарь в матрицу признаков:\")\n",
    "features"
   ]
  },
  {
   "attachments": {},
   "cell_type": "markdown",
   "metadata": {},
   "source": [
    "# 3.3.2. Задание"
   ]
  },
  {
   "attachments": {},
   "cell_type": "markdown",
   "metadata": {},
   "source": [
    "## Задача:"
   ]
  },
  {
   "attachments": {},
   "cell_type": "markdown",
   "metadata": {},
   "source": [
    "Определите набор признаков человека, по аналогии из РТ 1, – например,\n",
    "цвет глаз и конвертируйте его в матрицу признаков."
   ]
  },
  {
   "attachments": {},
   "cell_type": "markdown",
   "metadata": {},
   "source": [
    "## Решение:"
   ]
  },
  {
   "cell_type": "code",
   "execution_count": 91,
   "metadata": {},
   "outputs": [
    {
     "name": "stdout",
     "output_type": "stream",
     "text": [
      "Конвертированный словарь в матрицу признаков:\n"
     ]
    },
    {
     "data": {
      "text/plain": [
       "array([[  0.,   1., 186.,   1.,   0.,   0.],\n",
       "       [  0.,   1., 166.,   0.,   0.,   1.],\n",
       "       [  0.,   1., 157.,   1.,   0.,   0.],\n",
       "       [  1.,   0., 198.,   0.,   1.,   0.]])"
      ]
     },
     "execution_count": 91,
     "metadata": {},
     "output_type": "execute_result"
    }
   ],
   "source": [
    "from sklearn.feature_extraction import DictVectorizer\n",
    "\n",
    "dataframe = [{'пол':'мужской', 'цвет глаз':'голубой', 'рост':186},\n",
    "             {'пол':'мужской', 'цвет глаз':'коричневый', 'рост':166},\n",
    "             {'пол':'мужской', 'цвет глаз':'голубой', 'рост':157},\n",
    "             {'пол':'женский', 'цвет глаз':'зеленый', 'рост':198}]\n",
    "\n",
    "dictvectorizer = DictVectorizer(sparse=False)\n",
    "features = dictvectorizer.fit_transform(dataframe)\n",
    "print(\"Конвертированный словарь в матрицу признаков:\")\n",
    "features"
   ]
  }
 ],
 "metadata": {
  "interpreter": {
   "hash": "b3ba2566441a7c06988d0923437866b63cedc61552a5af99d1f4fb67d367b25f"
  },
  "kernelspec": {
   "display_name": "Python 3.9.12 64-bit ('base': conda)",
   "name": "python3"
  },
  "language_info": {
   "codemirror_mode": {
    "name": "ipython",
    "version": 3
   },
   "file_extension": ".py",
   "mimetype": "text/x-python",
   "name": "python",
   "nbconvert_exporter": "python",
   "pygments_lexer": "ipython3",
   "version": "3.10.9"
  },
  "orig_nbformat": 4,
  "vscode": {
   "interpreter": {
    "hash": "effd5ffa0893d4c46fe13a44dda64ba9f68f218083cab2ba7460d7147553a00b"
   }
  }
 },
 "nbformat": 4,
 "nbformat_minor": 2
}
